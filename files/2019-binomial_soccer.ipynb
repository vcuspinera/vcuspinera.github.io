{
 "cells": [
  {
   "cell_type": "markdown",
   "metadata": {},
   "source": [
    "# The Binomial in Soccer field\n",
    "*Auxiliar notebook for calculations*  \n",
    "  \n",
    "[Link to the blog post](https://vcuspinera.github.io/posts/2019/binomial_soccer)  "
   ]
  },
  {
   "cell_type": "code",
   "execution_count": 1,
   "metadata": {},
   "outputs": [],
   "source": [
    "import numpy as np\n",
    "import pandas as pd\n",
    "from scipy.stats import binom\n",
    "import altair as alt\n",
    "\n",
    "# Need to enable this to allow work with larger datasets (https://altair-viz.github.io/user_guide/faq.html)\n",
    "alt.data_transformers.enable('json')\n",
    "\n",
    "# enable next lines if you use Altair verion 4.x\n",
    "alt.renderers.enable('mimetype'); # For Jupyter Lab (v2.x)\n",
    "#alt.renderers.enable('default'); # For Jupyter Notebook\n",
    "\n",
    "#enable next line if you use Altair version 3.x in Jupyter notebook\n",
    "#alt.renderers.enable('notebook')"
   ]
  },
  {
   "cell_type": "markdown",
   "metadata": {},
   "source": [
    "### Calculations"
   ]
  },
  {
   "cell_type": "code",
   "execution_count": 2,
   "metadata": {},
   "outputs": [],
   "source": [
    "# Parameters\n",
    "np.random.seed(1)\n",
    "n = 5\n",
    "k = 4\n",
    "num_sim = 2_500\n",
    "p_mexico = 0.73 # Mexico probability of score a goal\n",
    "p_global = 0.85 # Global probability of score a goal"
   ]
  },
  {
   "cell_type": "code",
   "execution_count": 3,
   "metadata": {},
   "outputs": [
    {
     "data": {
      "text/plain": [
       "0.3833762534999999"
      ]
     },
     "execution_count": 3,
     "metadata": {},
     "output_type": "execute_result"
    }
   ],
   "source": [
    "# Probability that MEXICO scores 4 out of 5 penalty kicks in a shootout\n",
    "binom.pmf(k, n, p_mexico)"
   ]
  },
  {
   "cell_type": "code",
   "execution_count": 4,
   "metadata": {},
   "outputs": [
    {
     "data": {
      "text/plain": [
       "0.5906834128"
      ]
     },
     "execution_count": 4,
     "metadata": {},
     "output_type": "execute_result"
    }
   ],
   "source": [
    "# Probability that MEXICO scores 4 OR + penalties in a shootout\n",
    "binom.sf(k-1, n, p_mexico)"
   ]
  },
  {
   "cell_type": "code",
   "execution_count": 5,
   "metadata": {},
   "outputs": [
    {
     "data": {
      "text/plain": [
       "0.83521"
      ]
     },
     "execution_count": 5,
     "metadata": {},
     "output_type": "execute_result"
    }
   ],
   "source": [
    "# Probability that AN AVERAGE TEAM scores 4 OR + penalties in a shootout\n",
    "binom.sf(k-1, n, p_global)"
   ]
  },
  {
   "cell_type": "markdown",
   "metadata": {},
   "source": [
    "### Simulation"
   ]
  },
  {
   "cell_type": "code",
   "execution_count": 6,
   "metadata": {},
   "outputs": [],
   "source": [
    "# simulations for plots\n",
    "sim_mex = np.random.binomial(n, p_mexico, size=num_sim)\n",
    "sim_glo = np.random.binomial(n, p_global, size=num_sim)\n",
    "df = pd.DataFrame([sim_mex, sim_glo], index =['Mexico', 'Global']).T\n",
    "simulation = df.melt(value_vars=['Mexico', 'Global'], var_name='Level', value_name='Goals')"
   ]
  },
  {
   "cell_type": "code",
   "execution_count": 7,
   "metadata": {},
   "outputs": [
    {
     "data": {
      "application/vnd.vegalite.v4+json": {
       "$schema": "https://vega.github.io/schema/vega-lite/v4.0.2.json",
       "config": {
        "view": {
         "continuousHeight": 300,
         "continuousWidth": 400
        }
       },
       "data": {
        "format": {
         "type": "json"
        },
        "url": "altair-data-f426a27df143baaf8c90ead1ad95f5b1.json"
       },
       "layer": [
        {
         "encoding": {
          "color": {
           "field": "Level",
           "scale": {
            "domain": [
             "Global",
             "Mexico"
            ],
            "range": [
             "darkred",
             "green"
            ]
           },
           "type": "nominal"
          },
          "x": {
           "field": "Goals",
           "type": "quantitative"
          },
          "y": {
           "aggregate": "sum",
           "axis": {
            "format": "%"
           },
           "field": "pct",
           "type": "quantitative"
          }
         },
         "mark": {
          "size": 3,
          "type": "line"
         },
         "transform": [
          {
           "joinaggregate": [
            {
             "as": "total",
             "field": "*",
             "op": "count"
            }
           ]
          },
          {
           "as": "pct",
           "calculate": "2 / datum.total"
          }
         ]
        },
        {
         "encoding": {
          "color": {
           "field": "Level",
           "type": "nominal"
          },
          "tooltip": [
           {
            "field": "Level",
            "type": "nominal"
           },
           {
            "aggregate": "sum",
            "field": "pct",
            "title": "Probability",
            "type": "quantitative"
           }
          ],
          "x": {
           "field": "Goals",
           "title": "Goals (k)",
           "type": "quantitative"
          },
          "y": {
           "aggregate": "sum",
           "axis": {
            "format": "%"
           },
           "field": "pct",
           "title": "Probability",
           "type": "quantitative"
          }
         },
         "mark": {
          "size": 175,
          "type": "circle"
         },
         "title": "Penalty shootout distribution",
         "transform": [
          {
           "joinaggregate": [
            {
             "as": "total",
             "field": "*",
             "op": "count"
            }
           ]
          },
          {
           "as": "pct",
           "calculate": "2 / datum.total"
          }
         ]
        }
       ]
      },
      "image/png": "[encoded data removed]",
      "text/plain": [
       "<VegaLite 4 object>\n",
       "\n",
       "If you see this message, it means the renderer has not been properly enabled\n",
       "for the frontend that you are using. For more information, see\n",
       "https://altair-viz.github.io/user_guide/troubleshooting.html\n"
      ]
     },
     "execution_count": 7,
     "metadata": {},
     "output_type": "execute_result"
    }
   ],
   "source": [
    "# plot \n",
    "base = alt.Chart(simulation).transform_joinaggregate(\n",
    "    total='count(*)'\n",
    ").transform_calculate(\n",
    "    pct='2 / datum.total'\n",
    ")\n",
    "\n",
    "domain = ['Global', 'Mexico']\n",
    "range_ = ['darkred', 'green']\n",
    "\n",
    "line = base.mark_line(size=3).encode(\n",
    "    alt.X('Goals:Q'),\n",
    "    alt.Y('sum(pct):Q', axis=alt.Axis(format='%')),\n",
    "    color=alt.Color('Level', scale=alt.Scale(domain=domain, range=range_))\n",
    ")\n",
    "\n",
    "points = base.mark_circle(size=175).encode(\n",
    "    alt.X(\"Goals:Q\", title=(\"Goals (k)\")),\n",
    "    alt.Y('sum(pct):Q', axis=alt.Axis(format='%'), title=(\"Probability\")),\n",
    "    tooltip=[alt.Tooltip('Level'), alt.Tooltip('sum(pct):Q', title=\"Probability\")],\n",
    "    color = \"Level\"\n",
    ").properties(\n",
    "    title=\"Penalty shootout distribution\"\n",
    ")\n",
    "\n",
    "line + points"
   ]
  },
  {
   "cell_type": "markdown",
   "metadata": {},
   "source": [
    "*Comment: For the `base` plot I use the code from [questions 56358977 at Stackoverflow](https://stackoverflow.com/questions/56358977/how-to-show-a-histogram-of-percentages-instead-of-counts-using-altair).*"
   ]
  },
  {
   "cell_type": "code",
   "execution_count": 8,
   "metadata": {},
   "outputs": [
    {
     "data": {
      "text/html": [
       "<div>\n",
       "<style scoped>\n",
       "    .dataframe tbody tr th:only-of-type {\n",
       "        vertical-align: middle;\n",
       "    }\n",
       "\n",
       "    .dataframe tbody tr th {\n",
       "        vertical-align: top;\n",
       "    }\n",
       "\n",
       "    .dataframe thead th {\n",
       "        text-align: right;\n",
       "    }\n",
       "</style>\n",
       "<table border=\"1\" class=\"dataframe\">\n",
       "  <thead>\n",
       "    <tr style=\"text-align: right;\">\n",
       "      <th>Level</th>\n",
       "      <th>Global</th>\n",
       "      <th>Mexico</th>\n",
       "    </tr>\n",
       "    <tr>\n",
       "      <th>Goals</th>\n",
       "      <th></th>\n",
       "      <th></th>\n",
       "    </tr>\n",
       "  </thead>\n",
       "  <tbody>\n",
       "    <tr>\n",
       "      <th>0</th>\n",
       "      <td>NaN</td>\n",
       "      <td>0.0004</td>\n",
       "    </tr>\n",
       "    <tr>\n",
       "      <th>1</th>\n",
       "      <td>0.0008</td>\n",
       "      <td>0.0188</td>\n",
       "    </tr>\n",
       "    <tr>\n",
       "      <th>2</th>\n",
       "      <td>0.0272</td>\n",
       "      <td>0.1076</td>\n",
       "    </tr>\n",
       "    <tr>\n",
       "      <th>3</th>\n",
       "      <td>0.1360</td>\n",
       "      <td>0.2892</td>\n",
       "    </tr>\n",
       "    <tr>\n",
       "      <th>4</th>\n",
       "      <td>0.3836</td>\n",
       "      <td>0.3804</td>\n",
       "    </tr>\n",
       "    <tr>\n",
       "      <th>5</th>\n",
       "      <td>0.4524</td>\n",
       "      <td>0.2036</td>\n",
       "    </tr>\n",
       "  </tbody>\n",
       "</table>\n",
       "</div>"
      ],
      "text/plain": [
       "Level  Global  Mexico\n",
       "Goals                \n",
       "0         NaN  0.0004\n",
       "1      0.0008  0.0188\n",
       "2      0.0272  0.1076\n",
       "3      0.1360  0.2892\n",
       "4      0.3836  0.3804\n",
       "5      0.4524  0.2036"
      ]
     },
     "execution_count": 8,
     "metadata": {},
     "output_type": "execute_result"
    }
   ],
   "source": [
    "# successes rates in scoring 'k' Goals out of 5 penalty kicks in a penalty shoutout\n",
    "table = pd.pivot_table(simulation, values='Goals', index=['Goals'],\n",
    "               columns=['Level'], aggfunc=len)\n",
    "table = np.round(table/num_sim, 4)\n",
    "table"
   ]
  },
  {
   "cell_type": "code",
   "execution_count": 9,
   "metadata": {},
   "outputs": [
    {
     "data": {
      "text/html": [
       "<div>\n",
       "<style scoped>\n",
       "    .dataframe tbody tr th:only-of-type {\n",
       "        vertical-align: middle;\n",
       "    }\n",
       "\n",
       "    .dataframe tbody tr th {\n",
       "        vertical-align: top;\n",
       "    }\n",
       "\n",
       "    .dataframe thead th {\n",
       "        text-align: right;\n",
       "    }\n",
       "</style>\n",
       "<table border=\"1\" class=\"dataframe\">\n",
       "  <thead>\n",
       "    <tr style=\"text-align: right;\">\n",
       "      <th></th>\n",
       "      <th>Probability 4+ goals</th>\n",
       "    </tr>\n",
       "    <tr>\n",
       "      <th>Level</th>\n",
       "      <th></th>\n",
       "    </tr>\n",
       "  </thead>\n",
       "  <tbody>\n",
       "    <tr>\n",
       "      <th>Global</th>\n",
       "      <td>0.836</td>\n",
       "    </tr>\n",
       "    <tr>\n",
       "      <th>Mexico</th>\n",
       "      <td>0.584</td>\n",
       "    </tr>\n",
       "  </tbody>\n",
       "</table>\n",
       "</div>"
      ],
      "text/plain": [
       "        Probability 4+ goals\n",
       "Level                       \n",
       "Global                 0.836\n",
       "Mexico                 0.584"
      ]
     },
     "execution_count": 9,
     "metadata": {},
     "output_type": "execute_result"
    }
   ],
   "source": [
    "# Probability of scoring 4 or + goals in a penalty shoutout\n",
    "pd.DataFrame(table[table.index>=4].sum(), columns=['Probability 4+ goals'])"
   ]
  },
  {
   "cell_type": "markdown",
   "metadata": {},
   "source": [
    "The results from this simulation are very close to the previous results from the `Calculations` section."
   ]
  }
 ],
 "metadata": {
  "kernelspec": {
   "display_name": "Python 3",
   "language": "python",
   "name": "python3"
  },
  "language_info": {
   "codemirror_mode": {
    "name": "ipython",
    "version": 3
   },
   "file_extension": ".py",
   "mimetype": "text/x-python",
   "name": "python",
   "nbconvert_exporter": "python",
   "pygments_lexer": "ipython3",
   "version": "3.7.6"
  }
 },
 "nbformat": 4,
 "nbformat_minor": 4
}
